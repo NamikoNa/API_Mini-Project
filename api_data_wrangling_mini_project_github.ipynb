{
 "cells": [
  {
   "cell_type": "markdown",
   "metadata": {},
   "source": [
    "This exercise will require you to pull some data from the Qunadl API. Qaundl is currently the most widely used aggregator of financial market data."
   ]
  },
  {
   "cell_type": "markdown",
   "metadata": {},
   "source": [
    "As a first step, you will need to register a free account on the http://www.quandl.com website."
   ]
  },
  {
   "cell_type": "markdown",
   "metadata": {},
   "source": [
    "After you register, you will be provided with a unique API key, that you should store:"
   ]
  },
  {
   "cell_type": "code",
   "execution_count": 1,
   "metadata": {},
   "outputs": [],
   "source": [
    "# Store the API key as a string - according to PEP8, constants are always named in all upper case\n",
    "API_KEY = 'xxxxxxxxxxxx'"
   ]
  },
  {
   "cell_type": "markdown",
   "metadata": {},
   "source": [
    "Qaundl has a large number of data sources, but, unfortunately, most of them require a Premium subscription. Still, there are also a good number of free datasets."
   ]
  },
  {
   "cell_type": "markdown",
   "metadata": {},
   "source": [
    "For this mini project, we will focus on equities data from the Frankfurt Stock Exhange (FSE), which is available for free. We'll try and analyze the stock prices of a company called Carl Zeiss Meditec, which manufactures tools for eye examinations, as well as medical lasers for laser eye surgery: https://www.zeiss.com/meditec/int/home.html. The company is listed under the stock ticker AFX_X."
   ]
  },
  {
   "cell_type": "markdown",
   "metadata": {},
   "source": [
    "You can find the detailed Quandl API instructions here: https://docs.quandl.com/docs/time-series"
   ]
  },
  {
   "cell_type": "markdown",
   "metadata": {},
   "source": [
    "While there is a dedicated Python package for connecting to the Quandl API, we would prefer that you use the *requests* package, which can be easily downloaded using *pip* or *conda*. You can find the documentation for the package here: http://docs.python-requests.org/en/master/ "
   ]
  },
  {
   "cell_type": "markdown",
   "metadata": {},
   "source": [
    "Finally, apart from the *requests* package, you are encouraged to not use any third party Python packages, such as *pandas*, and instead focus on what's available in the Python Standard Library (the *collections* module might come in handy: https://pymotw.com/3/collections/ ).\n",
    "Also, since you won't have access to DataFrames, you are encouraged to us Python's native data structures - preferably dictionaries, though some questions can also be answered using lists.\n",
    "You can read more on these data structures here: https://docs.python.org/3/tutorial/datastructures.html"
   ]
  },
  {
   "cell_type": "markdown",
   "metadata": {},
   "source": [
    "Keep in mind that the JSON responses you will be getting from the API map almost one-to-one to Python's dictionaries. Unfortunately, they can be very nested, so make sure you read up on indexing dictionaries in the documentation provided above."
   ]
  },
  {
   "cell_type": "code",
   "execution_count": 2,
   "metadata": {},
   "outputs": [],
   "source": [
    "# First, import the relevant modules\n",
    "import requests"
   ]
  },
  {
   "cell_type": "code",
   "execution_count": 3,
   "metadata": {},
   "outputs": [],
   "source": [
    "# Now, call the Quandl API and pull out a small sample of the data (only one day) to get a glimpse\n",
    "# into the JSON structure that will be returned\n",
    "# Definition:https://www.quandl.com/api/v3/datasets/{database_code}/{dataset_code}/data.{return_format}\n",
    "res = requests.get('https://www.quandl.com/api/v3/datasets/FSE/AFX_X/data.json?start_date=2020-01-15&end_date=2020-01-15&api_key=xxxxxxxxxxxx')\n",
    "json = res.json()"
   ]
  },
  {
   "cell_type": "code",
   "execution_count": 4,
   "metadata": {},
   "outputs": [
    {
     "name": "stdout",
     "output_type": "stream",
     "text": [
      "{'dataset_data': {'limit': None, 'transform': None, 'column_index': None, 'column_names': ['Date', 'Open', 'High', 'Low', 'Close', 'Change', 'Traded Volume', 'Turnover', 'Last Price of the Day', 'Daily Traded Units', 'Daily Turnover'], 'start_date': '2020-01-15', 'end_date': '2020-01-15', 'frequency': 'daily', 'data': [['2020-01-15', 119.5, 120.7, 119.1, 120.0, None, 111393.0, 13370345.0, None, None, None]], 'collapse': None, 'order': None}}\n"
     ]
    }
   ],
   "source": [
    "# Inspect the JSON structure of the object you created, and take note of how nested it is,\n",
    "# as well as the overall structure\n",
    "print(json)"
   ]
  },
  {
   "cell_type": "markdown",
   "metadata": {},
   "source": [
    "These are your tasks for this mini project:\n",
    "\n",
    "1. Collect data from the Franfurt Stock Exchange, for the ticker AFX_X, for the whole year 2017 (keep in mind that the date format is YYYY-MM-DD).\n",
    "2. Convert the returned JSON object into a Python dictionary.\n",
    "3. Calculate what the highest and lowest opening prices were for the stock in this period.\n",
    "4. What was the largest change in any one day (based on High and Low price)?\n",
    "5. What was the largest change between any two days (based on Closing Price)?\n",
    "6. What was the average daily trading volume during this year?\n",
    "7. (Optional) What was the median trading volume during this year. (Note: you may need to implement your own function for calculating the median.)"
   ]
  },
  {
   "cell_type": "code",
   "execution_count": 5,
   "metadata": {},
   "outputs": [],
   "source": [
    "# 1. Collect data for the whole year 2017\n",
    "res_2017 = requests.get('https://www.quandl.com/api/v3/datasets/FSE/AFX_X/data.json?start_date=2017-01-01&end_date=2017-12-31&api_key=iyQ81oWszcB7fc2CzPwq')"
   ]
  },
  {
   "cell_type": "code",
   "execution_count": 6,
   "metadata": {},
   "outputs": [],
   "source": [
    "# 2. Convert the returned JSON object into a Python dictionary.\n",
    "json_2017 = res_2017.json()"
   ]
  },
  {
   "cell_type": "code",
   "execution_count": 7,
   "metadata": {},
   "outputs": [
    {
     "name": "stdout",
     "output_type": "stream",
     "text": [
      "The highest opening price was $53.11.\n",
      "The lowest opening price was $34.0.\n"
     ]
    }
   ],
   "source": [
    "# 3. Calculate what the highest and lowest opening prices were for the stock in this period\n",
    "# Make a new list of opening prices\n",
    "open = []\n",
    "for daily in json_2017['dataset_data']['data']:\n",
    "    if daily[1] != None:\n",
    "        open.append(daily[1])\n",
    "\n",
    "# Print the highest opening price \n",
    "print('The highest opening price was $' + str(round(max(open), 2)) +'.')\n",
    "\n",
    "# Print the lowest opening price \n",
    "print('The lowest opening price was $' + str(round(min(open), 2)) + '.')"
   ]
  },
  {
   "cell_type": "code",
   "execution_count": 8,
   "metadata": {},
   "outputs": [
    {
     "name": "stdout",
     "output_type": "stream",
     "text": [
      "The largest change in a day was $2.81.\n"
     ]
    }
   ],
   "source": [
    "# 4. What was the largest change in any one day (based on High and Low price)?\n",
    "# Make a new list of changes in each day\n",
    "change = []\n",
    "for daily in json_2017['dataset_data']['data']:\n",
    "    if (daily[2] != None) and (daily[3] != None):\n",
    "        change.append(daily[2] - daily[3])\n",
    "    \n",
    "# Print the largest change\n",
    "print('The largest change in a day was $' + str(round(max(change), 2)) + '.')"
   ]
  },
  {
   "cell_type": "code",
   "execution_count": 9,
   "metadata": {},
   "outputs": [
    {
     "name": "stdout",
     "output_type": "stream",
     "text": [
      "The largest change between two days was $2.56.\n"
     ]
    }
   ],
   "source": [
    "# 5. What was the largest change between any two days (based on Closing Price)?\n",
    "# Make a new list of closing prices\n",
    "close = []\n",
    "for daily in json_2017['dataset_data']['data']:\n",
    "    if daily[4] != None:\n",
    "        close.append(daily[4])\n",
    "\n",
    "# Make a new list of changes between two days\n",
    "two_days = []\n",
    "for i in range(len(close)-1):\n",
    "    if (close[i + 1] != None) and (close[i] != None):\n",
    "        two_days.append(close[i + 1] - close[i])\n",
    "    \n",
    "# Pring the largest change\n",
    "print('The largest change between two days was $' + str(round(max(two_days), 2)) + '.')"
   ]
  },
  {
   "cell_type": "code",
   "execution_count": 10,
   "metadata": {},
   "outputs": [
    {
     "name": "stdout",
     "output_type": "stream",
     "text": [
      "The average daily trading volume was 89124.3.\n"
     ]
    }
   ],
   "source": [
    "# 6. What was the average daily trading volume during this year?\n",
    "# Make a new list of trading volumes\n",
    "trading_volume = []\n",
    "for daily in json_2017['dataset_data']['data']:\n",
    "    if daily[6] != None:\n",
    "        trading_volume.append(daily[6])\n",
    "    \n",
    "# Pring the average daily trading volume\n",
    "print('The average daily trading volume was ' + str(round(sum(trading_volume) / len(trading_volume), 1)) + '.')"
   ]
  },
  {
   "cell_type": "code",
   "execution_count": 11,
   "metadata": {},
   "outputs": [
    {
     "name": "stdout",
     "output_type": "stream",
     "text": [
      "The median of trading volume was 76286.0.\n"
     ]
    }
   ],
   "source": [
    "# 7.(Optional) What was the median trading volume during this year. \n",
    "# (Note: you may need to implement your own function for calculating the median.)\n",
    "# Sort traiding_volume\n",
    "sorted = sorted(trading_volume)\n",
    "\n",
    "# Define a function for caliculate the median\n",
    "def median_cal(numbers):\n",
    "    if len(numbers) % 2 == 0:\n",
    "        return (numbers[int(len(numbers) / 2)] + numbers[int(len(numbers) / 2 - 1)]) / 2\n",
    "    else:\n",
    "        return numbers[int((len(numbers) - 1) / 2)]\n",
    "\n",
    "# Call median_cal() with sorted\n",
    "median = median_cal(sorted)\n",
    "\n",
    "# Print the median\n",
    "print('The median of trading volume was ' + str(median) + '.')"
   ]
  }
 ],
 "metadata": {
  "kernelspec": {
   "display_name": "springboard1",
   "language": "python",
   "name": "springboard1"
  },
  "language_info": {
   "codemirror_mode": {
    "name": "ipython",
    "version": 3
   },
   "file_extension": ".py",
   "mimetype": "text/x-python",
   "name": "python",
   "nbconvert_exporter": "python",
   "pygments_lexer": "ipython3",
   "version": "3.7.5"
  },
  "toc": {
   "base_numbering": 1,
   "nav_menu": {},
   "number_sections": true,
   "sideBar": true,
   "skip_h1_title": false,
   "title_cell": "Table of Contents",
   "title_sidebar": "Contents",
   "toc_cell": false,
   "toc_position": {},
   "toc_section_display": true,
   "toc_window_display": false
  }
 },
 "nbformat": 4,
 "nbformat_minor": 2
}
